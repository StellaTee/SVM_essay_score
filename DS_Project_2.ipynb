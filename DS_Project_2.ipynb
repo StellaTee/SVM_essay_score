{
 "cells": [
  {
   "cell_type": "markdown",
   "id": "6b2167fd",
   "metadata": {},
   "source": [
    "## <p style='text-align: right;'> Last edited: 29 April 2022 </p>\n"
   ]
  },
  {
   "cell_type": "markdown",
   "id": "6fb1be52",
   "metadata": {},
   "source": [
    "# Introduction"
   ]
  },
  {
   "cell_type": "markdown",
   "id": "0645fc1f",
   "metadata": {},
   "source": [
    "The purpose of this project is to train a model by using one of the supervised machine learning algorithms and use the model to predict the score of the essay. The data set we are given includes many features. I have to select some features which are related to evaluating my scores in order to have an accurate model . After selecting the suitable features for the model, I normalise the data in order to have the same scale. After that, I use the Support Vector Machine to build my model. Besides that, I also use confusion matrix and quadratic weighted kappa to check for the accuracy and true agreement of my model. All in all, I use the model to predict the score of a new data set."
   ]
  },
  {
   "cell_type": "markdown",
   "id": "bce5bf2b",
   "metadata": {},
   "source": [
    "# Importing libraries"
   ]
  },
  {
   "cell_type": "code",
   "execution_count": 1,
   "id": "a88dc4a5",
   "metadata": {},
   "outputs": [],
   "source": [
    "import pandas as pd\n",
    "import numpy as np\n",
    "import matplotlib.pyplot as plt\n",
    "%matplotlib inline"
   ]
  },
  {
   "cell_type": "markdown",
   "id": "24b2b9d7",
   "metadata": {},
   "source": [
    "# Read CSV files"
   ]
  },
  {
   "cell_type": "code",
   "execution_count": 2,
   "id": "d5dfbffb",
   "metadata": {},
   "outputs": [],
   "source": [
    "essay_features = pd.read_csv(\"Project 2 Files/FIT1043-Essay-Features.csv\")"
   ]
  },
  {
   "cell_type": "markdown",
   "id": "c8e8e758",
   "metadata": {},
   "source": [
    "Checking the data, whether did I read the correct csv file."
   ]
  },
  {
   "cell_type": "code",
   "execution_count": 3,
   "id": "ee080fc3",
   "metadata": {},
   "outputs": [
    {
     "data": {
      "text/html": [
       "<div>\n",
       "<style scoped>\n",
       "    .dataframe tbody tr th:only-of-type {\n",
       "        vertical-align: middle;\n",
       "    }\n",
       "\n",
       "    .dataframe tbody tr th {\n",
       "        vertical-align: top;\n",
       "    }\n",
       "\n",
       "    .dataframe thead th {\n",
       "        text-align: right;\n",
       "    }\n",
       "</style>\n",
       "<table border=\"1\" class=\"dataframe\">\n",
       "  <thead>\n",
       "    <tr style=\"text-align: right;\">\n",
       "      <th></th>\n",
       "      <th>essayid</th>\n",
       "      <th>chars</th>\n",
       "      <th>words</th>\n",
       "      <th>commas</th>\n",
       "      <th>apostrophes</th>\n",
       "      <th>punctuations</th>\n",
       "      <th>avg_word_length</th>\n",
       "      <th>sentences</th>\n",
       "      <th>questions</th>\n",
       "      <th>avg_word_sentence</th>\n",
       "      <th>POS</th>\n",
       "      <th>POS/total_words</th>\n",
       "      <th>prompt_words</th>\n",
       "      <th>prompt_words/total_words</th>\n",
       "      <th>synonym_words</th>\n",
       "      <th>synonym_words/total_words</th>\n",
       "      <th>unstemmed</th>\n",
       "      <th>stemmed</th>\n",
       "      <th>score</th>\n",
       "    </tr>\n",
       "  </thead>\n",
       "  <tbody>\n",
       "    <tr>\n",
       "      <th>0</th>\n",
       "      <td>1457</td>\n",
       "      <td>2153</td>\n",
       "      <td>426</td>\n",
       "      <td>14</td>\n",
       "      <td>6</td>\n",
       "      <td>0</td>\n",
       "      <td>5.053991</td>\n",
       "      <td>16</td>\n",
       "      <td>0</td>\n",
       "      <td>26.625000</td>\n",
       "      <td>423.995272</td>\n",
       "      <td>0.995294</td>\n",
       "      <td>207</td>\n",
       "      <td>0.485915</td>\n",
       "      <td>105</td>\n",
       "      <td>0.246479</td>\n",
       "      <td>424</td>\n",
       "      <td>412</td>\n",
       "      <td>4</td>\n",
       "    </tr>\n",
       "    <tr>\n",
       "      <th>1</th>\n",
       "      <td>503</td>\n",
       "      <td>1480</td>\n",
       "      <td>292</td>\n",
       "      <td>9</td>\n",
       "      <td>7</td>\n",
       "      <td>0</td>\n",
       "      <td>5.068493</td>\n",
       "      <td>11</td>\n",
       "      <td>0</td>\n",
       "      <td>26.545455</td>\n",
       "      <td>290.993103</td>\n",
       "      <td>0.996552</td>\n",
       "      <td>148</td>\n",
       "      <td>0.506849</td>\n",
       "      <td>77</td>\n",
       "      <td>0.263699</td>\n",
       "      <td>356</td>\n",
       "      <td>345</td>\n",
       "      <td>4</td>\n",
       "    </tr>\n",
       "    <tr>\n",
       "      <th>2</th>\n",
       "      <td>253</td>\n",
       "      <td>3964</td>\n",
       "      <td>849</td>\n",
       "      <td>19</td>\n",
       "      <td>26</td>\n",
       "      <td>1</td>\n",
       "      <td>4.669022</td>\n",
       "      <td>49</td>\n",
       "      <td>2</td>\n",
       "      <td>17.326531</td>\n",
       "      <td>843.990544</td>\n",
       "      <td>0.994100</td>\n",
       "      <td>285</td>\n",
       "      <td>0.335689</td>\n",
       "      <td>130</td>\n",
       "      <td>0.153121</td>\n",
       "      <td>750</td>\n",
       "      <td>750</td>\n",
       "      <td>4</td>\n",
       "    </tr>\n",
       "    <tr>\n",
       "      <th>3</th>\n",
       "      <td>107</td>\n",
       "      <td>988</td>\n",
       "      <td>210</td>\n",
       "      <td>8</td>\n",
       "      <td>7</td>\n",
       "      <td>0</td>\n",
       "      <td>4.704762</td>\n",
       "      <td>12</td>\n",
       "      <td>0</td>\n",
       "      <td>17.500000</td>\n",
       "      <td>207.653784</td>\n",
       "      <td>0.988828</td>\n",
       "      <td>112</td>\n",
       "      <td>0.533333</td>\n",
       "      <td>62</td>\n",
       "      <td>0.295238</td>\n",
       "      <td>217</td>\n",
       "      <td>209</td>\n",
       "      <td>3</td>\n",
       "    </tr>\n",
       "    <tr>\n",
       "      <th>4</th>\n",
       "      <td>1450</td>\n",
       "      <td>3139</td>\n",
       "      <td>600</td>\n",
       "      <td>13</td>\n",
       "      <td>8</td>\n",
       "      <td>0</td>\n",
       "      <td>5.231667</td>\n",
       "      <td>24</td>\n",
       "      <td>1</td>\n",
       "      <td>25.000000</td>\n",
       "      <td>594.652150</td>\n",
       "      <td>0.991087</td>\n",
       "      <td>255</td>\n",
       "      <td>0.425000</td>\n",
       "      <td>165</td>\n",
       "      <td>0.275000</td>\n",
       "      <td>702</td>\n",
       "      <td>677</td>\n",
       "      <td>4</td>\n",
       "    </tr>\n",
       "  </tbody>\n",
       "</table>\n",
       "</div>"
      ],
      "text/plain": [
       "   essayid  chars  words  commas  apostrophes  punctuations  avg_word_length  \\\n",
       "0     1457   2153    426      14            6             0         5.053991   \n",
       "1      503   1480    292       9            7             0         5.068493   \n",
       "2      253   3964    849      19           26             1         4.669022   \n",
       "3      107    988    210       8            7             0         4.704762   \n",
       "4     1450   3139    600      13            8             0         5.231667   \n",
       "\n",
       "   sentences  questions  avg_word_sentence         POS  POS/total_words  \\\n",
       "0         16          0          26.625000  423.995272         0.995294   \n",
       "1         11          0          26.545455  290.993103         0.996552   \n",
       "2         49          2          17.326531  843.990544         0.994100   \n",
       "3         12          0          17.500000  207.653784         0.988828   \n",
       "4         24          1          25.000000  594.652150         0.991087   \n",
       "\n",
       "   prompt_words  prompt_words/total_words  synonym_words  \\\n",
       "0           207                  0.485915            105   \n",
       "1           148                  0.506849             77   \n",
       "2           285                  0.335689            130   \n",
       "3           112                  0.533333             62   \n",
       "4           255                  0.425000            165   \n",
       "\n",
       "   synonym_words/total_words  unstemmed  stemmed  score  \n",
       "0                   0.246479        424      412      4  \n",
       "1                   0.263699        356      345      4  \n",
       "2                   0.153121        750      750      4  \n",
       "3                   0.295238        217      209      3  \n",
       "4                   0.275000        702      677      4  "
      ]
     },
     "execution_count": 3,
     "metadata": {},
     "output_type": "execute_result"
    }
   ],
   "source": [
    "essay_features.head(5)"
   ]
  },
  {
   "cell_type": "code",
   "execution_count": 4,
   "id": "328480a8",
   "metadata": {},
   "outputs": [
    {
     "data": {
      "text/plain": [
       "array([4, 3, 2, 1, 5, 6])"
      ]
     },
     "execution_count": 4,
     "metadata": {},
     "output_type": "execute_result"
    }
   ],
   "source": [
    "essay_features.score.unique()"
   ]
  },
  {
   "cell_type": "code",
   "execution_count": 5,
   "id": "f8d72777",
   "metadata": {},
   "outputs": [
    {
     "data": {
      "text/plain": [
       "(1332, 19)"
      ]
     },
     "execution_count": 5,
     "metadata": {},
     "output_type": "execute_result"
    }
   ],
   "source": [
    "essay_features.shape"
   ]
  },
  {
   "cell_type": "code",
   "execution_count": 6,
   "id": "285cfd6d",
   "metadata": {},
   "outputs": [
    {
     "data": {
      "text/plain": [
       "essayid                        int64\n",
       "chars                          int64\n",
       "words                          int64\n",
       "commas                         int64\n",
       "apostrophes                    int64\n",
       "punctuations                   int64\n",
       "avg_word_length              float64\n",
       "sentences                      int64\n",
       "questions                      int64\n",
       "avg_word_sentence            float64\n",
       "POS                          float64\n",
       "POS/total_words              float64\n",
       "prompt_words                   int64\n",
       "prompt_words/total_words     float64\n",
       "synonym_words                  int64\n",
       "synonym_words/total_words    float64\n",
       "unstemmed                      int64\n",
       "stemmed                        int64\n",
       "score                          int64\n",
       "dtype: object"
      ]
     },
     "execution_count": 6,
     "metadata": {},
     "output_type": "execute_result"
    }
   ],
   "source": [
    "essay_features.dtypes"
   ]
  },
  {
   "cell_type": "code",
   "execution_count": 7,
   "id": "d4905a32",
   "metadata": {},
   "outputs": [
    {
     "data": {
      "text/html": [
       "<div>\n",
       "<style scoped>\n",
       "    .dataframe tbody tr th:only-of-type {\n",
       "        vertical-align: middle;\n",
       "    }\n",
       "\n",
       "    .dataframe tbody tr th {\n",
       "        vertical-align: top;\n",
       "    }\n",
       "\n",
       "    .dataframe thead th {\n",
       "        text-align: right;\n",
       "    }\n",
       "</style>\n",
       "<table border=\"1\" class=\"dataframe\">\n",
       "  <thead>\n",
       "    <tr style=\"text-align: right;\">\n",
       "      <th></th>\n",
       "      <th>essayid</th>\n",
       "      <th>chars</th>\n",
       "      <th>words</th>\n",
       "      <th>commas</th>\n",
       "      <th>apostrophes</th>\n",
       "      <th>punctuations</th>\n",
       "      <th>avg_word_length</th>\n",
       "      <th>sentences</th>\n",
       "      <th>questions</th>\n",
       "      <th>avg_word_sentence</th>\n",
       "      <th>POS</th>\n",
       "      <th>POS/total_words</th>\n",
       "      <th>prompt_words</th>\n",
       "      <th>prompt_words/total_words</th>\n",
       "      <th>synonym_words</th>\n",
       "      <th>synonym_words/total_words</th>\n",
       "      <th>unstemmed</th>\n",
       "      <th>stemmed</th>\n",
       "      <th>score</th>\n",
       "    </tr>\n",
       "  </thead>\n",
       "  <tbody>\n",
       "    <tr>\n",
       "      <th>count</th>\n",
       "      <td>1332.00000</td>\n",
       "      <td>1332.000000</td>\n",
       "      <td>1332.000000</td>\n",
       "      <td>1332.000000</td>\n",
       "      <td>1332.000000</td>\n",
       "      <td>1332.00000</td>\n",
       "      <td>1332.000000</td>\n",
       "      <td>1332.000000</td>\n",
       "      <td>1332.000000</td>\n",
       "      <td>1332.000000</td>\n",
       "      <td>1332.000000</td>\n",
       "      <td>1332.000000</td>\n",
       "      <td>1332.000000</td>\n",
       "      <td>1332.000000</td>\n",
       "      <td>1332.00000</td>\n",
       "      <td>1332.000000</td>\n",
       "      <td>1332.000000</td>\n",
       "      <td>1332.000000</td>\n",
       "      <td>1332.000000</td>\n",
       "    </tr>\n",
       "    <tr>\n",
       "      <th>mean</th>\n",
       "      <td>905.27027</td>\n",
       "      <td>2101.745495</td>\n",
       "      <td>424.485736</td>\n",
       "      <td>14.667417</td>\n",
       "      <td>8.141141</td>\n",
       "      <td>0.47973</td>\n",
       "      <td>4.939762</td>\n",
       "      <td>19.704204</td>\n",
       "      <td>1.222973</td>\n",
       "      <td>23.884687</td>\n",
       "      <td>420.596542</td>\n",
       "      <td>0.989935</td>\n",
       "      <td>198.913664</td>\n",
       "      <td>0.469164</td>\n",
       "      <td>110.16967</td>\n",
       "      <td>0.263846</td>\n",
       "      <td>468.987988</td>\n",
       "      <td>455.507508</td>\n",
       "      <td>3.427177</td>\n",
       "    </tr>\n",
       "    <tr>\n",
       "      <th>std</th>\n",
       "      <td>526.68760</td>\n",
       "      <td>865.963750</td>\n",
       "      <td>171.873730</td>\n",
       "      <td>10.920781</td>\n",
       "      <td>6.124520</td>\n",
       "      <td>1.27168</td>\n",
       "      <td>0.231071</td>\n",
       "      <td>19.202731</td>\n",
       "      <td>1.847446</td>\n",
       "      <td>11.160020</td>\n",
       "      <td>170.985111</td>\n",
       "      <td>0.007308</td>\n",
       "      <td>82.729266</td>\n",
       "      <td>0.052466</td>\n",
       "      <td>43.96192</td>\n",
       "      <td>0.038870</td>\n",
       "      <td>159.447449</td>\n",
       "      <td>155.751220</td>\n",
       "      <td>0.774275</td>\n",
       "    </tr>\n",
       "    <tr>\n",
       "      <th>min</th>\n",
       "      <td>0.00000</td>\n",
       "      <td>169.000000</td>\n",
       "      <td>36.000000</td>\n",
       "      <td>0.000000</td>\n",
       "      <td>2.000000</td>\n",
       "      <td>0.00000</td>\n",
       "      <td>2.231322</td>\n",
       "      <td>0.000000</td>\n",
       "      <td>0.000000</td>\n",
       "      <td>1.084112</td>\n",
       "      <td>35.647059</td>\n",
       "      <td>0.924771</td>\n",
       "      <td>14.000000</td>\n",
       "      <td>0.288889</td>\n",
       "      <td>11.00000</td>\n",
       "      <td>0.027299</td>\n",
       "      <td>48.000000</td>\n",
       "      <td>50.000000</td>\n",
       "      <td>1.000000</td>\n",
       "    </tr>\n",
       "    <tr>\n",
       "      <th>25%</th>\n",
       "      <td>442.75000</td>\n",
       "      <td>1527.250000</td>\n",
       "      <td>310.000000</td>\n",
       "      <td>7.000000</td>\n",
       "      <td>4.000000</td>\n",
       "      <td>0.00000</td>\n",
       "      <td>4.791679</td>\n",
       "      <td>13.000000</td>\n",
       "      <td>0.000000</td>\n",
       "      <td>19.142857</td>\n",
       "      <td>305.406284</td>\n",
       "      <td>0.987758</td>\n",
       "      <td>144.000000</td>\n",
       "      <td>0.435709</td>\n",
       "      <td>81.00000</td>\n",
       "      <td>0.238423</td>\n",
       "      <td>361.000000</td>\n",
       "      <td>350.750000</td>\n",
       "      <td>3.000000</td>\n",
       "    </tr>\n",
       "    <tr>\n",
       "      <th>50%</th>\n",
       "      <td>914.50000</td>\n",
       "      <td>2029.500000</td>\n",
       "      <td>411.000000</td>\n",
       "      <td>13.000000</td>\n",
       "      <td>6.000000</td>\n",
       "      <td>0.00000</td>\n",
       "      <td>4.946059</td>\n",
       "      <td>18.000000</td>\n",
       "      <td>1.000000</td>\n",
       "      <td>22.030331</td>\n",
       "      <td>406.982869</td>\n",
       "      <td>0.991572</td>\n",
       "      <td>193.000000</td>\n",
       "      <td>0.465852</td>\n",
       "      <td>107.50000</td>\n",
       "      <td>0.262872</td>\n",
       "      <td>463.000000</td>\n",
       "      <td>448.000000</td>\n",
       "      <td>3.000000</td>\n",
       "    </tr>\n",
       "    <tr>\n",
       "      <th>75%</th>\n",
       "      <td>1369.75000</td>\n",
       "      <td>2613.500000</td>\n",
       "      <td>525.000000</td>\n",
       "      <td>21.000000</td>\n",
       "      <td>11.000000</td>\n",
       "      <td>0.00000</td>\n",
       "      <td>5.092938</td>\n",
       "      <td>24.000000</td>\n",
       "      <td>2.000000</td>\n",
       "      <td>26.048234</td>\n",
       "      <td>520.739458</td>\n",
       "      <td>0.994425</td>\n",
       "      <td>246.000000</td>\n",
       "      <td>0.500000</td>\n",
       "      <td>134.00000</td>\n",
       "      <td>0.288277</td>\n",
       "      <td>581.000000</td>\n",
       "      <td>561.250000</td>\n",
       "      <td>4.000000</td>\n",
       "    </tr>\n",
       "    <tr>\n",
       "      <th>max</th>\n",
       "      <td>1799.00000</td>\n",
       "      <td>6142.000000</td>\n",
       "      <td>1170.000000</td>\n",
       "      <td>72.000000</td>\n",
       "      <td>51.000000</td>\n",
       "      <td>26.00000</td>\n",
       "      <td>5.681429</td>\n",
       "      <td>642.000000</td>\n",
       "      <td>17.000000</td>\n",
       "      <td>303.000000</td>\n",
       "      <td>1158.984563</td>\n",
       "      <td>1.000000</td>\n",
       "      <td>669.000000</td>\n",
       "      <td>0.961207</td>\n",
       "      <td>355.00000</td>\n",
       "      <td>0.465517</td>\n",
       "      <td>750.000000</td>\n",
       "      <td>750.000000</td>\n",
       "      <td>6.000000</td>\n",
       "    </tr>\n",
       "  </tbody>\n",
       "</table>\n",
       "</div>"
      ],
      "text/plain": [
       "          essayid        chars        words       commas  apostrophes  \\\n",
       "count  1332.00000  1332.000000  1332.000000  1332.000000  1332.000000   \n",
       "mean    905.27027  2101.745495   424.485736    14.667417     8.141141   \n",
       "std     526.68760   865.963750   171.873730    10.920781     6.124520   \n",
       "min       0.00000   169.000000    36.000000     0.000000     2.000000   \n",
       "25%     442.75000  1527.250000   310.000000     7.000000     4.000000   \n",
       "50%     914.50000  2029.500000   411.000000    13.000000     6.000000   \n",
       "75%    1369.75000  2613.500000   525.000000    21.000000    11.000000   \n",
       "max    1799.00000  6142.000000  1170.000000    72.000000    51.000000   \n",
       "\n",
       "       punctuations  avg_word_length    sentences    questions  \\\n",
       "count    1332.00000      1332.000000  1332.000000  1332.000000   \n",
       "mean        0.47973         4.939762    19.704204     1.222973   \n",
       "std         1.27168         0.231071    19.202731     1.847446   \n",
       "min         0.00000         2.231322     0.000000     0.000000   \n",
       "25%         0.00000         4.791679    13.000000     0.000000   \n",
       "50%         0.00000         4.946059    18.000000     1.000000   \n",
       "75%         0.00000         5.092938    24.000000     2.000000   \n",
       "max        26.00000         5.681429   642.000000    17.000000   \n",
       "\n",
       "       avg_word_sentence          POS  POS/total_words  prompt_words  \\\n",
       "count        1332.000000  1332.000000      1332.000000   1332.000000   \n",
       "mean           23.884687   420.596542         0.989935    198.913664   \n",
       "std            11.160020   170.985111         0.007308     82.729266   \n",
       "min             1.084112    35.647059         0.924771     14.000000   \n",
       "25%            19.142857   305.406284         0.987758    144.000000   \n",
       "50%            22.030331   406.982869         0.991572    193.000000   \n",
       "75%            26.048234   520.739458         0.994425    246.000000   \n",
       "max           303.000000  1158.984563         1.000000    669.000000   \n",
       "\n",
       "       prompt_words/total_words  synonym_words  synonym_words/total_words  \\\n",
       "count               1332.000000     1332.00000                1332.000000   \n",
       "mean                   0.469164      110.16967                   0.263846   \n",
       "std                    0.052466       43.96192                   0.038870   \n",
       "min                    0.288889       11.00000                   0.027299   \n",
       "25%                    0.435709       81.00000                   0.238423   \n",
       "50%                    0.465852      107.50000                   0.262872   \n",
       "75%                    0.500000      134.00000                   0.288277   \n",
       "max                    0.961207      355.00000                   0.465517   \n",
       "\n",
       "         unstemmed      stemmed        score  \n",
       "count  1332.000000  1332.000000  1332.000000  \n",
       "mean    468.987988   455.507508     3.427177  \n",
       "std     159.447449   155.751220     0.774275  \n",
       "min      48.000000    50.000000     1.000000  \n",
       "25%     361.000000   350.750000     3.000000  \n",
       "50%     463.000000   448.000000     3.000000  \n",
       "75%     581.000000   561.250000     4.000000  \n",
       "max     750.000000   750.000000     6.000000  "
      ]
     },
     "execution_count": 7,
     "metadata": {},
     "output_type": "execute_result"
    }
   ],
   "source": [
    "essay_features.describe()"
   ]
  },
  {
   "cell_type": "markdown",
   "id": "7d37b852",
   "metadata": {},
   "source": [
    "From the description of the data in the DataFrame of essay_features, I noticed that this data set has imbalanced data. The scores of 3 and 4 are the majority classes. This will cause the QWK has a lower score."
   ]
  },
  {
   "cell_type": "markdown",
   "id": "78ceef00",
   "metadata": {},
   "source": [
    "# 2. Supervised learning"
   ]
  },
  {
   "cell_type": "markdown",
   "id": "44867fa9",
   "metadata": {},
   "source": [
    "## 2a) Explain supervised machine learning, the notion of labelled data, and the training and test datasets."
   ]
  },
  {
   "cell_type": "markdown",
   "id": "731f9cdd",
   "metadata": {},
   "source": [
    "Supervised learning is a subset of machine learning and artificial intelligence. We train models with labelled data where the label is the target we are interested in predicting. In supervised learning, the machine learning model would simply use previous labelled data in order to predict the label of new data points. Examples of algorithms used for supervised learning are support vector machine, neural network, linear and logistics regression, random forest, and classification trees. In contrast, unsupervised learning is a machine learning approach that allows the model to explore information on its own. It mainly involves unlabelled data. \n",
    "\n",
    "The concept of labelled data is a technique for identifying raw data (pictures, text files, videos, etc.) and adding one or more relevant and useful tags to provide context so that machine learning models can learn from them and make accurate predictions. For example, a label might show a photo that contains a cat or dog. It is deemed that data that has been labelled is more difficult to obtain.\n",
    "\n",
    "Before building the model, we have to split our data to training set and testing set. Training set the set of data which we use to train our model. We can evaluate our model based on testing set. Both of these data are not overlapping. This way allow us to measure how the model reacts to new observations."
   ]
  },
  {
   "cell_type": "markdown",
   "id": "05340019",
   "metadata": {},
   "source": [
    "## 2b) Separate the features and the label (Hint: the label, in this case, is the ‘score’)\n"
   ]
  },
  {
   "cell_type": "markdown",
   "id": "313753d9",
   "metadata": {},
   "source": [
    "In order to improve the accuracy of my model, I had to find the associated characteristics from the set of data and remove the irrelevant or less important features that did not contribute much to my target variable. There are mutliple feature selection techniques, which are univariate selection, feature importance and correlation matrix with heatmap (Raheel Shaikh, 2018). I am using univariate selection, correlation matrix and feature importance to identify which features are most related to the target variable.\n"
   ]
  },
  {
   "cell_type": "markdown",
   "id": "c05d0c53",
   "metadata": {},
   "source": [
    "## A) Univariate selection method"
   ]
  },
  {
   "cell_type": "code",
   "execution_count": 8,
   "id": "c5953eda",
   "metadata": {},
   "outputs": [
    {
     "name": "stdout",
     "output_type": "stream",
     "text": [
      "                     Fectures          Score\n",
      "1                       chars  223680.120590\n",
      "10                        POS   40864.147356\n",
      "2                       words   40816.302124\n",
      "16                  unstemmed   35432.048223\n",
      "17                    stemmed   34700.384107\n",
      "12               prompt_words   18902.297903\n",
      "14              synonym_words    7904.305721\n",
      "3                      commas    3098.869246\n",
      "0                     essayid    1699.755801\n",
      "7                   sentences    1411.695719\n",
      "4                 apostrophes     695.676229\n",
      "8                   questions     408.594891\n",
      "9           avg_word_sentence     130.078511\n",
      "5                punctuations     122.427655\n",
      "6             avg_word_length       1.568220\n",
      "15  synonym_words/total_words       0.739756\n",
      "13   prompt_words/total_words       0.055329\n"
     ]
    }
   ],
   "source": [
    "from sklearn.feature_selection import SelectKBest\n",
    "from sklearn.feature_selection import chi2\n",
    "X = essay_features.iloc[:,0:18]  #independent columns\n",
    "y = essay_features.iloc[:,-1]    #dependent,output column -> scores\n",
    "#apply SelectKBest class to extract top 10 best features\n",
    "bestfeatures = SelectKBest(score_func=chi2, k=10)\n",
    "fit = bestfeatures.fit(X,y)\n",
    "dfscores = pd.DataFrame(fit.scores_)\n",
    "dfcolumns = pd.DataFrame(X.columns)\n",
    "#concat two dataframes for better visualization \n",
    "featureScores = pd.concat([dfcolumns,dfscores],axis=1)\n",
    "featureScores.columns = ['Fectures','Score']  \n",
    "print(featureScores.nlargest(17,'Score'))  "
   ]
  },
  {
   "cell_type": "markdown",
   "id": "fbfb310f",
   "metadata": {},
   "source": [
    "##### From the table above, we know that feactures (chars, POS, words, unstemmed, stemmed) have the strongest relationship with the output variable."
   ]
  },
  {
   "cell_type": "markdown",
   "id": "80c849ad",
   "metadata": {},
   "source": [
    "## B) Correlation matrix with heatmap"
   ]
  },
  {
   "cell_type": "code",
   "execution_count": 9,
   "id": "451e5673",
   "metadata": {},
   "outputs": [
    {
     "data": {
      "image/png": "[encoded data removed]",
      "text/plain": [
       "<Figure size 1080x1080 with 2 Axes>"
      ]
     },
     "metadata": {
      "needs_background": "light"
     },
     "output_type": "display_data"
    }
   ],
   "source": [
    "import seaborn as sns\n",
    "X = essay_features.iloc[:,0:18]  \n",
    "y = essay_features.iloc[:,-1]    \n",
    "#get correlations of each features in dataset\n",
    "corrmat = essay_features.corr()\n",
    "top_corr_features = corrmat.index\n",
    "plt.figure(figsize=(15,15))\n",
    "#plot heat map\n",
    "g=sns.heatmap(essay_features[top_corr_features].corr(),annot=True,cmap=\"RdYlGn\")"
   ]
  },
  {
   "cell_type": "markdown",
   "id": "9e1b4ce2",
   "metadata": {},
   "source": [
    "##### From the heatmap above, we know that feactures (chars-0.68, POS-0.66, words-0.66, unstemmed-0.7, stemmed-0.7) are most related to the target variable."
   ]
  },
  {
   "cell_type": "markdown",
   "id": "8ff9c740",
   "metadata": {},
   "source": [
    "## C) Feature importance method"
   ]
  },
  {
   "cell_type": "code",
   "execution_count": 10,
   "id": "aac59aa0",
   "metadata": {},
   "outputs": [
    {
     "name": "stdout",
     "output_type": "stream",
     "text": [
      "[0.04312903 0.07786972 0.06519126 0.06092281 0.04460058 0.02581294\n",
      " 0.05721847 0.04471127 0.03612724 0.04170541 0.07629335 0.04302531\n",
      " 0.07304754 0.04290224 0.05408735 0.04550886 0.08296022 0.08488641]\n"
     ]
    },
    {
     "data": {
      "image/png": "[encoded data removed]",
      "text/plain": [
       "<Figure size 432x288 with 1 Axes>"
      ]
     },
     "metadata": {
      "needs_background": "light"
     },
     "output_type": "display_data"
    }
   ],
   "source": [
    "X = essay_features.iloc[:,0:18]  \n",
    "y = essay_features.iloc[:,-1] \n",
    "from sklearn.ensemble import ExtraTreesClassifier\n",
    "import matplotlib.pyplot as plt\n",
    "model = ExtraTreesClassifier()\n",
    "model.fit(X,y)\n",
    "print(model.feature_importances_) #use inbuilt class feature_importances of tree based classifiers\n",
    "#plot graph of feature importances for better visualization\n",
    "feat_importances = pd.Series(model.feature_importances_, index=X.columns)\n",
    "feat_importances.nlargest(10).plot(kind='barh')\n",
    "plt.show()"
   ]
  },
  {
   "cell_type": "markdown",
   "id": "6ef558c1",
   "metadata": {},
   "source": [
    "##### From the bar graph above, I can know that the higher the score more important or relevant is the feature towards my output variable."
   ]
  },
  {
   "cell_type": "markdown",
   "id": "b1fd7c86",
   "metadata": {},
   "source": [
    "## 2c)Use the sklearn.model_selection.train_test_split function to split your data for training and testing."
   ]
  },
  {
   "cell_type": "code",
   "execution_count": 11,
   "id": "543f40d7",
   "metadata": {},
   "outputs": [],
   "source": [
    "from sklearn.model_selection import train_test_split"
   ]
  },
  {
   "cell_type": "code",
   "execution_count": 12,
   "id": "5a4395fa",
   "metadata": {},
   "outputs": [],
   "source": [
    "X = essay_features.iloc[:, [1,10,2,16,17]].values\n",
    "y = essay_features.iloc[:, -1].values "
   ]
  },
  {
   "cell_type": "code",
   "execution_count": 13,
   "id": "dc153f87",
   "metadata": {},
   "outputs": [
    {
     "name": "stdout",
     "output_type": "stream",
     "text": [
      "1065 1065\n",
      "267 267\n"
     ]
    }
   ],
   "source": [
    "X_train, X_test, y_train, y_test = train_test_split(\n",
    " X, y, test_size = 0.20, random_state = 110 # the order of the row\n",
    ")\n",
    "\n",
    "#checking am I splitting correctly \n",
    "print(len(X_train),len(y_train))\n",
    "print(len(X_test),len(y_test))\n"
   ]
  },
  {
   "cell_type": "markdown",
   "id": "e7c450c1",
   "metadata": {},
   "source": [
    "### 80% is training data, 20% is testing data"
   ]
  },
  {
   "cell_type": "code",
   "execution_count": 14,
   "id": "91f82c97",
   "metadata": {},
   "outputs": [
    {
     "data": {
      "text/plain": [
       "array([[ 290.       ,   54.       ,   56.       ,   74.       ,\n",
       "          73.       ],\n",
       "       [2048.       ,  405.9901478,  409.       ,  467.       ,\n",
       "         457.       ],\n",
       "       [ 980.       ,  194.9896907,  196.       ,  237.       ,\n",
       "         232.       ],\n",
       "       ...,\n",
       "       [2616.       ,  530.6541353,  536.       ,  602.       ,\n",
       "         579.       ],\n",
       "       [1458.       ,  286.3216783,  289.       ,  356.       ,\n",
       "         346.       ],\n",
       "       [2225.       ,  452.660767 ,  454.       ,  536.       ,\n",
       "         517.       ]])"
      ]
     },
     "execution_count": 14,
     "metadata": {},
     "output_type": "execute_result"
    }
   ],
   "source": [
    "X_train"
   ]
  },
  {
   "cell_type": "code",
   "execution_count": 15,
   "id": "6787c4cb",
   "metadata": {},
   "outputs": [
    {
     "data": {
      "text/plain": [
       "array([4, 4, 4, ..., 3, 3, 4])"
      ]
     },
     "execution_count": 15,
     "metadata": {},
     "output_type": "execute_result"
    }
   ],
   "source": [
    "y"
   ]
  },
  {
   "cell_type": "markdown",
   "id": "a10d182c",
   "metadata": {},
   "source": [
    "# 3. Classification"
   ]
  },
  {
   "cell_type": "markdown",
   "id": "4cc611b6",
   "metadata": {},
   "source": [
    "## 3a. Explain the difference between binary and multi-class classification."
   ]
  },
  {
   "cell_type": "markdown",
   "id": "14d7b826",
   "metadata": {},
   "source": [
    "Classification classifies data into different groups. It is used to predict from which dataset the input data belongs. Binary classification is a process in which a given data is classified into two classes whereas multi-class classification involves predicting more than two classes. Examples of binary classification are true or false, yes or no, spam or not spam, fraud or not fraud and et cetera. Classes of multi-class classification are partitioned as mutually exclusive. Each of the data must belong to one class even if it’s an outlier. Examples of multi-class classification include face classification, text translation models and so on."
   ]
  },
  {
   "cell_type": "markdown",
   "id": "d7184a3c",
   "metadata": {},
   "source": [
    "## 3b i) Describe what you understand from this need to normalise data (this is in your Week 7 laboratory)."
   ]
  },
  {
   "cell_type": "markdown",
   "id": "234c01f4",
   "metadata": {},
   "source": [
    "Normalisation is needed when the range of our data varies widely. Data normalization\n",
    "is one of the important part of prepossessing data. Real-world datasets frequently contain features with varied magnitudes, ranges, and units. Therefore, feature scaling is required for machine learning models to understand these features on the same scale. \n",
    "\n",
    "From our data(essay feature) we can see that the magnitude of char is up to thousands but some data is between 0 to 1. If I don't scale and normalise this data set, the result will be affected by this particular feature as it has large value.\n",
    "\n",
    "The goal of normalization and scaling our data is to transform features to be on a similar scale. This improves the performance and training stability of the model (Chong, 2020)."
   ]
  },
  {
   "cell_type": "markdown",
   "id": "b455d795",
   "metadata": {},
   "source": [
    "## 3b ii) Choose and use the appropriate normalisation functions available in sklearn.preprocessing and scale the data appropriately."
   ]
  },
  {
   "cell_type": "code",
   "execution_count": 16,
   "id": "f5cea314",
   "metadata": {},
   "outputs": [],
   "source": [
    "from sklearn.preprocessing import StandardScaler\n",
    "std_scaler = StandardScaler()\n",
    "X_train = std_scaler.fit_transform(X_train) \n",
    "X_test = std_scaler.transform(X_test)"
   ]
  },
  {
   "cell_type": "markdown",
   "id": "fa94f9b7",
   "metadata": {},
   "source": [
    "## 3c i) Describe SVM (in relation to Linear Regression)."
   ]
  },
  {
   "cell_type": "markdown",
   "id": "d6972940",
   "metadata": {},
   "source": [
    "Support Vector Machine(SVM) is one of the most widely used Supervised Learning techniques for Classification and Regression issues. SVM is a supervised machine learning algorithm used for both classification and regression.The goal of the SVM algorithm is to find a hyperplane in an N-dimensional space that categorises data points clearly.The dimension of the hyperplane depends upon the number of features. SVM is effective in high dimensional cases(Support Vector Machine Algorithm, 2021).SVM supports different kernel functions. It uses the kernel trick to find the best line separator. The most common kernels are rbf, poly or sigmoid, but we can also create our own kernel.\n",
    "\n",
    "Linear regression analysis is a statistical technique for predicting the value of one variable based on the value of another. The dependent variable is the variable you wish to forecast. The independent variable is the one you're using to predict the value of the other variable.. Linear regression fits a straight line or surface that minimizes the discrepancies between predicted and actual output values(best fit line). \n",
    "\n",
    "SVM seeks to locate the \"best\" margin (distance between the line and the support vectors) that divides the classes, reducing the possibility of data error, however linear regression does not. Besides that, SVM works effectively with unstructured and semi-structured data, such as text and pictures, whereas logistic regression works with independent variables that have previously been defined.\n"
   ]
  },
  {
   "cell_type": "markdown",
   "id": "a1cbf8b2",
   "metadata": {},
   "source": [
    "## 3c ii) In SVM/SVR, there is something called the kernel. Explain what you understand from it."
   ]
  },
  {
   "cell_type": "markdown",
   "id": "a9651939",
   "metadata": {},
   "source": [
    "A kernel aids in the search for a hyperplane in a higher-dimensional space without increasing the computational cost. When the size of the data grows, the computing cost usually grows with it. When we can't discover a separating hyperplane in one dimension and need to shift to a higher dimension, we need to raise the dimension. The benefit of using a kernel is that it allows us to go to greater dimensions and execute smooth computations(Sethi, 2020). Furthermore, kernels allow us to do stuff in infinite dimensions.\n",
    "\n",
    "We can set the value of the kernel parameter in the SVM code. The kernel functions do all the complex calculations for us. We just have to use the appropriate kernel. There are kernels like RBF that work well with smaller data as well. However,RBF is a universal kernel, employing it on smaller datasets may result in overfitting. As a result, simpler kernels such as linear and polynomial are encouraged.(SVM Kernel Functions - 'Coz Your SVM Knowledge Is Incomplete without It, 2020). \n"
   ]
  },
  {
   "cell_type": "markdown",
   "id": "f337f8a9",
   "metadata": {},
   "source": [
    "## 3c iii)Write the code to build the model using your training dataset."
   ]
  },
  {
   "cell_type": "code",
   "execution_count": 17,
   "id": "ceef030f",
   "metadata": {},
   "outputs": [],
   "source": [
    "from sklearn.svm import SVC # \"Support vector classifier\" \n",
    "from sklearn.metrics import confusion_matrix, accuracy_score"
   ]
  },
  {
   "cell_type": "markdown",
   "id": "66645118",
   "metadata": {},
   "source": [
    "C and gamma values are chosen by using GridSearchCV"
   ]
  },
  {
   "cell_type": "code",
   "execution_count": 18,
   "id": "cf1eb386",
   "metadata": {},
   "outputs": [
    {
     "data": {
      "text/plain": [
       "SVC(C=10, gamma=0.9, random_state=0)"
      ]
     },
     "execution_count": 18,
     "metadata": {},
     "output_type": "execute_result"
    }
   ],
   "source": [
    "classifier = SVC(kernel='rbf', random_state=0,C= 10, gamma= 0.9)  \n",
    "classifier.fit(X_train, y_train)\n"
   ]
  },
  {
   "cell_type": "code",
   "execution_count": 19,
   "id": "cf4e0b0f",
   "metadata": {},
   "outputs": [
    {
     "data": {
      "text/plain": [
       "0.6779026217228464"
      ]
     },
     "execution_count": 19,
     "metadata": {},
     "output_type": "execute_result"
    }
   ],
   "source": [
    "#Predicting the test set result  \n",
    "y_pred= classifier.predict(X_test)\n",
    "accuracy_score(y_test, y_pred)"
   ]
  },
  {
   "cell_type": "markdown",
   "id": "4046ff13",
   "metadata": {},
   "source": [
    "### I found that using GridSearchCV can help me to find the best kernel and parameters for my model by using SVM (SVM Hyperparameter Tuning Using GridSearchCV, 2020)."
   ]
  },
  {
   "cell_type": "code",
   "execution_count": 20,
   "id": "c8ce369f",
   "metadata": {},
   "outputs": [],
   "source": [
    "import warnings\n",
    "warnings.filterwarnings(\"ignore\")"
   ]
  },
  {
   "cell_type": "code",
   "execution_count": 21,
   "id": "87943efe",
   "metadata": {},
   "outputs": [
    {
     "data": {
      "text/plain": [
       "GridSearchCV(estimator=SVC(),\n",
       "             param_grid={'C': [0.1, 1, 10],\n",
       "                         'gamma': [0.1, 0.2, 0.3, 0.4, 0.5, 0.6, 0.7, 0.8, 0.9],\n",
       "                         'kernel': ['linear', 'rbf']})"
      ]
     },
     "execution_count": 21,
     "metadata": {},
     "output_type": "execute_result"
    }
   ],
   "source": [
    "from sklearn.model_selection import GridSearchCV\n",
    "\n",
    "param_grid = {'C':[ 0.1, 1, 10],'kernel':['linear','rbf'],'gamma': [0.1,0.2,0.3,0.4,0.5,0.6,0.7,0.8,0.9]}\n",
    "grid = GridSearchCV(SVC(),param_grid)\n",
    "grid.fit(X_train,y_train)"
   ]
  },
  {
   "cell_type": "code",
   "execution_count": 22,
   "id": "8f6891ec",
   "metadata": {},
   "outputs": [
    {
     "name": "stdout",
     "output_type": "stream",
     "text": [
      "{'C': 10, 'gamma': 0.9, 'kernel': 'rbf'}\n",
      "0.6779026217228464\n"
     ]
    }
   ],
   "source": [
    "print(grid.best_params_)\n",
    "print(grid.score(X_test,y_test))"
   ]
  },
  {
   "cell_type": "markdown",
   "id": "d6c71776",
   "metadata": {},
   "source": [
    "From the result, I know that what are the best kernel and parameter for the SVM model."
   ]
  },
  {
   "cell_type": "markdown",
   "id": "35882856",
   "metadata": {},
   "source": [
    "## 3d i) Using the testing dataset you created in 2(c) above, conduct the prediction for the ‘score’ (label)."
   ]
  },
  {
   "cell_type": "code",
   "execution_count": 23,
   "id": "57b0c4ec",
   "metadata": {},
   "outputs": [
    {
     "data": {
      "text/plain": [
       "array([3, 4, 3, 4, 3, 5, 3, 3, 1, 4, 4, 4, 3, 3, 4, 3, 2, 4, 4, 2, 4, 3,\n",
       "       4, 4, 3, 3, 4, 3, 2, 3, 3, 3, 3, 4, 3, 4, 4, 3, 3, 4, 4, 4, 3, 4,\n",
       "       4, 4, 2, 4, 3, 4, 4, 3, 4, 3, 3, 3, 3, 1, 3, 3, 4, 2, 4, 4, 4, 4,\n",
       "       4, 3, 3, 4, 4, 3, 4, 4, 4, 3, 4, 4, 3, 3, 3, 3, 3, 4, 3, 4, 3, 4,\n",
       "       4, 4, 3, 3, 3, 3, 4, 4, 4, 4, 1, 3, 4, 3, 4, 3, 4, 4, 3, 4, 4, 4,\n",
       "       3, 3, 2, 3, 4, 3, 3, 4, 4, 3, 2, 3, 3, 3, 3, 4, 3, 3, 3, 2, 4, 4,\n",
       "       3, 3, 3, 3, 3, 3, 3, 3, 4, 2, 4, 4, 3, 4, 4, 2, 3, 4, 3, 4, 3, 3,\n",
       "       3, 4, 4, 3, 4, 3, 3, 3, 3, 4, 3, 3, 4, 3, 3, 3, 3, 3, 3, 3, 3, 3,\n",
       "       3, 3, 4, 4, 3, 4, 3, 4, 3, 3, 4, 3, 4, 3, 2, 4, 4, 4, 3, 3, 4, 4,\n",
       "       3, 3, 4, 4, 4, 4, 4, 2, 3, 3, 4, 4, 3, 4, 4, 4, 3, 4, 3, 3, 4, 4,\n",
       "       3, 3, 3, 4, 3, 3, 3, 4, 4, 4, 4, 4, 4, 4, 4, 4, 3, 4, 2, 4, 4, 2,\n",
       "       3, 4, 3, 4, 4, 4, 3, 4, 4, 3, 4, 3, 3, 3, 4, 3, 4, 3, 4, 3, 2, 3,\n",
       "       4, 4, 4])"
      ]
     },
     "execution_count": 23,
     "metadata": {},
     "output_type": "execute_result"
    }
   ],
   "source": [
    "y_pred= classifier.predict(X_test)\n",
    "y_pred"
   ]
  },
  {
   "cell_type": "markdown",
   "id": "28412b21",
   "metadata": {},
   "source": [
    "## 3d ii) Display the confusion matrix (it should look like a 6x6 matrix)."
   ]
  },
  {
   "cell_type": "code",
   "execution_count": 24,
   "id": "2c772cae",
   "metadata": {},
   "outputs": [
    {
     "data": {
      "text/plain": [
       "array([[ 2,  2,  2,  0,  0,  0],\n",
       "       [ 1, 12, 10,  0,  0,  0],\n",
       "       [ 0,  1, 85, 30,  0,  0],\n",
       "       [ 0,  0, 28, 82,  1,  0],\n",
       "       [ 0,  0,  1,  9,  0,  0],\n",
       "       [ 0,  0,  0,  1,  0,  0]])"
      ]
     },
     "execution_count": 24,
     "metadata": {},
     "output_type": "execute_result"
    }
   ],
   "source": [
    "#Creating the Confusion matrix  \n",
    "cm= confusion_matrix(y_test, y_pred)  \n",
    "cm"
   ]
  },
  {
   "cell_type": "code",
   "execution_count": 25,
   "id": "74bec34f",
   "metadata": {},
   "outputs": [
    {
     "name": "stdout",
     "output_type": "stream",
     "text": [
      "Accuracy: 0.6779026217228464\n"
     ]
    }
   ],
   "source": [
    "accuracy = accuracy_score(y_test, y_pred)\n",
    "print(f\"Accuracy: {accuracy}\")"
   ]
  },
  {
   "cell_type": "markdown",
   "id": "47e350cd",
   "metadata": {},
   "source": [
    "# Explaining the confusion matrix"
   ]
  },
  {
   "cell_type": "markdown",
   "id": "a91659d5",
   "metadata": {},
   "source": [
    "The diagonal of the array represents the true positive(TP) value of each classes. As the matrix above, 2 is the TP of class 1. 12 is the TP of class 2. 85 is the TP value class 3. 82 is the TP value class 4. 80 is the TP value class 5. 0 is the TP value class 6. \n",
    "\n",
    "False positive of class 1 is the sum of the values in the corresponding column.\n",
    "\n",
    "False negative of class 1 is the sum of the values in the corresponding row. \n",
    "\n",
    "True negative of class 1 is the sum of all rows and columns excluding the class's row and column. This applies to every class.\n",
    "\n",
    "The confusion matrix above showed that there are no true positive value for class 5 and 6. The accuracy of the confusion matrix is 0.6779."
   ]
  },
  {
   "cell_type": "markdown",
   "id": "7cdca0e2",
   "metadata": {},
   "source": [
    "## 3d iii) Explain Quadratic Weighted Kappa (QWK). "
   ]
  },
  {
   "cell_type": "markdown",
   "id": "c3fa2d00",
   "metadata": {},
   "source": [
    "The quadratic weighted kappa, which evaluates the agreement between two ratings, is used to rate submissions. This statistic normally ranges from 0 (random agreement between raters) to 1 (complete agreement between raters).  The metric may fall below 0 if the raters have less agreement than would be predicted by chance. Between the expected/known and forecast scores, a quadratic weighted kappa is produced.The amount of agreement between an algorithm's predictions and true labels is referred to as QWK.\n"
   ]
  },
  {
   "cell_type": "markdown",
   "id": "d1a125ee",
   "metadata": {},
   "source": [
    "## 3d iv) Use the sklearn.metrics library to code and obtain the QWK score."
   ]
  },
  {
   "cell_type": "code",
   "execution_count": 26,
   "id": "e7a199a9",
   "metadata": {},
   "outputs": [
    {
     "data": {
      "text/plain": [
       "0.6544647809206877"
      ]
     },
     "execution_count": 26,
     "metadata": {},
     "output_type": "execute_result"
    }
   ],
   "source": [
    "from sklearn.metrics import cohen_kappa_score\n",
    "cohen_kappa_score(y_test, y_pred, weights=\"quadratic\")"
   ]
  },
  {
   "cell_type": "markdown",
   "id": "4042f296",
   "metadata": {},
   "source": [
    "## Explain the QWK score"
   ]
  },
  {
   "cell_type": "markdown",
   "id": "c20f8a73",
   "metadata": {},
   "source": [
    "This metric typically varies from 0 (random agreement) to 1 (complete agreement). In the event that there is less agreement than expected by chance, the metric may go below 0 i.e. it may become negative.\n",
    "\n",
    "So, we can present it in tabular form as below - (prashant111, 2020)\n",
    "\n",
    "-1 : Complete disagreement\n",
    "\n",
    "0 : Agreement by chance\n",
    "\n",
    "0-0.2 ; Poor agreement\n",
    "\n",
    "0.2-0.4 : Moderate agreement\n",
    "\n",
    "0.4-0.6 : Good agreement\n",
    "\n",
    "0.6-0.8 : Very good agreement\n",
    "\n",
    "0.8-1 : Perfect agreement\n",
    "\n",
    "1 : Complete agreement\n",
    "\n",
    "Our QWK value has found to be 0.6545.\n",
    "\n",
    "It means that the actual and predicted values have very good agreement.\n"
   ]
  },
  {
   "cell_type": "markdown",
   "id": "3b87befd",
   "metadata": {},
   "source": [
    "## 4a. Read the ‘FIT1043-Essay-Features-Submission.csv’ file and use the model you built earlier to predict the ‘score’.\n",
    "\n",
    "## 4b. Unlike the previous section, you have a testing (also sometimes referred to as the validation) dataset where you know the ‘score’ and will be able to test for the accuracy. In this part, you don’t have a ‘score’ and you have to predict it and submit it to the competition site."
   ]
  },
  {
   "cell_type": "code",
   "execution_count": 27,
   "id": "aa9afd1c",
   "metadata": {},
   "outputs": [],
   "source": [
    "essay_features_submission = pd.read_csv(\"Project 2 Files/FIT1043-Essay-Features-Submission.csv\")"
   ]
  },
  {
   "cell_type": "code",
   "execution_count": 28,
   "id": "5d13631e",
   "metadata": {},
   "outputs": [
    {
     "data": {
      "text/html": [
       "<div>\n",
       "<style scoped>\n",
       "    .dataframe tbody tr th:only-of-type {\n",
       "        vertical-align: middle;\n",
       "    }\n",
       "\n",
       "    .dataframe tbody tr th {\n",
       "        vertical-align: top;\n",
       "    }\n",
       "\n",
       "    .dataframe thead th {\n",
       "        text-align: right;\n",
       "    }\n",
       "</style>\n",
       "<table border=\"1\" class=\"dataframe\">\n",
       "  <thead>\n",
       "    <tr style=\"text-align: right;\">\n",
       "      <th></th>\n",
       "      <th>essayid</th>\n",
       "      <th>chars</th>\n",
       "      <th>words</th>\n",
       "      <th>commas</th>\n",
       "      <th>apostrophes</th>\n",
       "      <th>punctuations</th>\n",
       "      <th>avg_word_length</th>\n",
       "      <th>sentences</th>\n",
       "      <th>questions</th>\n",
       "      <th>avg_word_sentence</th>\n",
       "      <th>POS</th>\n",
       "      <th>POS/total_words</th>\n",
       "      <th>prompt_words</th>\n",
       "      <th>prompt_words/total_words</th>\n",
       "      <th>synonym_words</th>\n",
       "      <th>synonym_words/total_words</th>\n",
       "      <th>unstemmed</th>\n",
       "      <th>stemmed</th>\n",
       "    </tr>\n",
       "  </thead>\n",
       "  <tbody>\n",
       "    <tr>\n",
       "      <th>0</th>\n",
       "      <td>1623</td>\n",
       "      <td>4332</td>\n",
       "      <td>900</td>\n",
       "      <td>28</td>\n",
       "      <td>13</td>\n",
       "      <td>0</td>\n",
       "      <td>4.813333</td>\n",
       "      <td>39</td>\n",
       "      <td>1</td>\n",
       "      <td>23.076923</td>\n",
       "      <td>893.988852</td>\n",
       "      <td>0.993321</td>\n",
       "      <td>392</td>\n",
       "      <td>0.435556</td>\n",
       "      <td>196</td>\n",
       "      <td>0.217778</td>\n",
       "      <td>750</td>\n",
       "      <td>750</td>\n",
       "    </tr>\n",
       "    <tr>\n",
       "      <th>1</th>\n",
       "      <td>1143</td>\n",
       "      <td>1465</td>\n",
       "      <td>280</td>\n",
       "      <td>11</td>\n",
       "      <td>3</td>\n",
       "      <td>1</td>\n",
       "      <td>5.232143</td>\n",
       "      <td>14</td>\n",
       "      <td>3</td>\n",
       "      <td>20.000000</td>\n",
       "      <td>278.321343</td>\n",
       "      <td>0.994005</td>\n",
       "      <td>131</td>\n",
       "      <td>0.467857</td>\n",
       "      <td>51</td>\n",
       "      <td>0.182143</td>\n",
       "      <td>339</td>\n",
       "      <td>316</td>\n",
       "    </tr>\n",
       "    <tr>\n",
       "      <th>2</th>\n",
       "      <td>660</td>\n",
       "      <td>1696</td>\n",
       "      <td>325</td>\n",
       "      <td>17</td>\n",
       "      <td>2</td>\n",
       "      <td>0</td>\n",
       "      <td>5.218462</td>\n",
       "      <td>19</td>\n",
       "      <td>1</td>\n",
       "      <td>17.105263</td>\n",
       "      <td>321.316770</td>\n",
       "      <td>0.988667</td>\n",
       "      <td>178</td>\n",
       "      <td>0.547692</td>\n",
       "      <td>92</td>\n",
       "      <td>0.283077</td>\n",
       "      <td>352</td>\n",
       "      <td>337</td>\n",
       "    </tr>\n",
       "    <tr>\n",
       "      <th>3</th>\n",
       "      <td>1596</td>\n",
       "      <td>2640</td>\n",
       "      <td>555</td>\n",
       "      <td>20</td>\n",
       "      <td>17</td>\n",
       "      <td>0</td>\n",
       "      <td>4.756757</td>\n",
       "      <td>28</td>\n",
       "      <td>0</td>\n",
       "      <td>19.821429</td>\n",
       "      <td>551.989150</td>\n",
       "      <td>0.994575</td>\n",
       "      <td>228</td>\n",
       "      <td>0.410811</td>\n",
       "      <td>107</td>\n",
       "      <td>0.192793</td>\n",
       "      <td>632</td>\n",
       "      <td>605</td>\n",
       "    </tr>\n",
       "    <tr>\n",
       "      <th>4</th>\n",
       "      <td>846</td>\n",
       "      <td>2844</td>\n",
       "      <td>596</td>\n",
       "      <td>33</td>\n",
       "      <td>4</td>\n",
       "      <td>1</td>\n",
       "      <td>4.771812</td>\n",
       "      <td>24</td>\n",
       "      <td>9</td>\n",
       "      <td>24.833333</td>\n",
       "      <td>593.658810</td>\n",
       "      <td>0.996072</td>\n",
       "      <td>279</td>\n",
       "      <td>0.468121</td>\n",
       "      <td>138</td>\n",
       "      <td>0.231544</td>\n",
       "      <td>626</td>\n",
       "      <td>607</td>\n",
       "    </tr>\n",
       "  </tbody>\n",
       "</table>\n",
       "</div>"
      ],
      "text/plain": [
       "   essayid  chars  words  commas  apostrophes  punctuations  avg_word_length  \\\n",
       "0     1623   4332    900      28           13             0         4.813333   \n",
       "1     1143   1465    280      11            3             1         5.232143   \n",
       "2      660   1696    325      17            2             0         5.218462   \n",
       "3     1596   2640    555      20           17             0         4.756757   \n",
       "4      846   2844    596      33            4             1         4.771812   \n",
       "\n",
       "   sentences  questions  avg_word_sentence         POS  POS/total_words  \\\n",
       "0         39          1          23.076923  893.988852         0.993321   \n",
       "1         14          3          20.000000  278.321343         0.994005   \n",
       "2         19          1          17.105263  321.316770         0.988667   \n",
       "3         28          0          19.821429  551.989150         0.994575   \n",
       "4         24          9          24.833333  593.658810         0.996072   \n",
       "\n",
       "   prompt_words  prompt_words/total_words  synonym_words  \\\n",
       "0           392                  0.435556            196   \n",
       "1           131                  0.467857             51   \n",
       "2           178                  0.547692             92   \n",
       "3           228                  0.410811            107   \n",
       "4           279                  0.468121            138   \n",
       "\n",
       "   synonym_words/total_words  unstemmed  stemmed  \n",
       "0                   0.217778        750      750  \n",
       "1                   0.182143        339      316  \n",
       "2                   0.283077        352      337  \n",
       "3                   0.192793        632      605  \n",
       "4                   0.231544        626      607  "
      ]
     },
     "execution_count": 28,
     "metadata": {},
     "output_type": "execute_result"
    }
   ],
   "source": [
    "essay_features_submission.head()"
   ]
  },
  {
   "cell_type": "code",
   "execution_count": 29,
   "id": "d4c176cf",
   "metadata": {},
   "outputs": [
    {
     "data": {
      "text/html": [
       "<div>\n",
       "<style scoped>\n",
       "    .dataframe tbody tr th:only-of-type {\n",
       "        vertical-align: middle;\n",
       "    }\n",
       "\n",
       "    .dataframe tbody tr th {\n",
       "        vertical-align: top;\n",
       "    }\n",
       "\n",
       "    .dataframe thead th {\n",
       "        text-align: right;\n",
       "    }\n",
       "</style>\n",
       "<table border=\"1\" class=\"dataframe\">\n",
       "  <thead>\n",
       "    <tr style=\"text-align: right;\">\n",
       "      <th></th>\n",
       "      <th>essayid</th>\n",
       "      <th>chars</th>\n",
       "      <th>words</th>\n",
       "      <th>commas</th>\n",
       "      <th>apostrophes</th>\n",
       "      <th>punctuations</th>\n",
       "      <th>avg_word_length</th>\n",
       "      <th>sentences</th>\n",
       "      <th>questions</th>\n",
       "      <th>avg_word_sentence</th>\n",
       "      <th>POS</th>\n",
       "      <th>POS/total_words</th>\n",
       "      <th>prompt_words</th>\n",
       "      <th>prompt_words/total_words</th>\n",
       "      <th>synonym_words</th>\n",
       "      <th>synonym_words/total_words</th>\n",
       "      <th>unstemmed</th>\n",
       "      <th>stemmed</th>\n",
       "    </tr>\n",
       "  </thead>\n",
       "  <tbody>\n",
       "    <tr>\n",
       "      <th>count</th>\n",
       "      <td>199.000000</td>\n",
       "      <td>199.000000</td>\n",
       "      <td>199.000000</td>\n",
       "      <td>199.000000</td>\n",
       "      <td>199.000000</td>\n",
       "      <td>199.000000</td>\n",
       "      <td>199.000000</td>\n",
       "      <td>199.000000</td>\n",
       "      <td>199.000000</td>\n",
       "      <td>199.000000</td>\n",
       "      <td>199.000000</td>\n",
       "      <td>199.000000</td>\n",
       "      <td>199.000000</td>\n",
       "      <td>199.000000</td>\n",
       "      <td>199.000000</td>\n",
       "      <td>199.000000</td>\n",
       "      <td>199.000000</td>\n",
       "      <td>199.000000</td>\n",
       "    </tr>\n",
       "    <tr>\n",
       "      <th>mean</th>\n",
       "      <td>866.246231</td>\n",
       "      <td>2151.723618</td>\n",
       "      <td>432.904523</td>\n",
       "      <td>15.055276</td>\n",
       "      <td>8.437186</td>\n",
       "      <td>0.422111</td>\n",
       "      <td>4.961988</td>\n",
       "      <td>20.201005</td>\n",
       "      <td>1.311558</td>\n",
       "      <td>23.427486</td>\n",
       "      <td>429.080957</td>\n",
       "      <td>0.990736</td>\n",
       "      <td>203.597990</td>\n",
       "      <td>0.473099</td>\n",
       "      <td>112.236181</td>\n",
       "      <td>0.262899</td>\n",
       "      <td>469.603015</td>\n",
       "      <td>455.899497</td>\n",
       "    </tr>\n",
       "    <tr>\n",
       "      <th>std</th>\n",
       "      <td>495.767821</td>\n",
       "      <td>892.834324</td>\n",
       "      <td>178.346405</td>\n",
       "      <td>11.313350</td>\n",
       "      <td>6.431836</td>\n",
       "      <td>0.900456</td>\n",
       "      <td>0.208963</td>\n",
       "      <td>9.997464</td>\n",
       "      <td>1.840459</td>\n",
       "      <td>14.853168</td>\n",
       "      <td>177.156625</td>\n",
       "      <td>0.006472</td>\n",
       "      <td>83.751431</td>\n",
       "      <td>0.050144</td>\n",
       "      <td>46.160781</td>\n",
       "      <td>0.039271</td>\n",
       "      <td>157.915967</td>\n",
       "      <td>154.569425</td>\n",
       "    </tr>\n",
       "    <tr>\n",
       "      <th>min</th>\n",
       "      <td>18.000000</td>\n",
       "      <td>236.000000</td>\n",
       "      <td>50.000000</td>\n",
       "      <td>0.000000</td>\n",
       "      <td>2.000000</td>\n",
       "      <td>0.000000</td>\n",
       "      <td>4.342593</td>\n",
       "      <td>2.000000</td>\n",
       "      <td>0.000000</td>\n",
       "      <td>11.349398</td>\n",
       "      <td>50.000000</td>\n",
       "      <td>0.959283</td>\n",
       "      <td>22.000000</td>\n",
       "      <td>0.305556</td>\n",
       "      <td>11.000000</td>\n",
       "      <td>0.175911</td>\n",
       "      <td>72.000000</td>\n",
       "      <td>74.000000</td>\n",
       "    </tr>\n",
       "    <tr>\n",
       "      <th>25%</th>\n",
       "      <td>477.000000</td>\n",
       "      <td>1534.000000</td>\n",
       "      <td>311.500000</td>\n",
       "      <td>8.000000</td>\n",
       "      <td>3.500000</td>\n",
       "      <td>0.000000</td>\n",
       "      <td>4.830455</td>\n",
       "      <td>13.500000</td>\n",
       "      <td>0.000000</td>\n",
       "      <td>18.791126</td>\n",
       "      <td>308.161248</td>\n",
       "      <td>0.988327</td>\n",
       "      <td>145.500000</td>\n",
       "      <td>0.442804</td>\n",
       "      <td>82.500000</td>\n",
       "      <td>0.232916</td>\n",
       "      <td>366.000000</td>\n",
       "      <td>357.000000</td>\n",
       "    </tr>\n",
       "    <tr>\n",
       "      <th>50%</th>\n",
       "      <td>862.000000</td>\n",
       "      <td>2079.000000</td>\n",
       "      <td>417.000000</td>\n",
       "      <td>12.000000</td>\n",
       "      <td>6.000000</td>\n",
       "      <td>0.000000</td>\n",
       "      <td>4.971609</td>\n",
       "      <td>19.000000</td>\n",
       "      <td>1.000000</td>\n",
       "      <td>21.428571</td>\n",
       "      <td>412.985507</td>\n",
       "      <td>0.992126</td>\n",
       "      <td>198.000000</td>\n",
       "      <td>0.468121</td>\n",
       "      <td>109.000000</td>\n",
       "      <td>0.266010</td>\n",
       "      <td>461.000000</td>\n",
       "      <td>448.000000</td>\n",
       "    </tr>\n",
       "    <tr>\n",
       "      <th>75%</th>\n",
       "      <td>1255.000000</td>\n",
       "      <td>2637.000000</td>\n",
       "      <td>524.500000</td>\n",
       "      <td>20.000000</td>\n",
       "      <td>13.000000</td>\n",
       "      <td>0.000000</td>\n",
       "      <td>5.081581</td>\n",
       "      <td>24.000000</td>\n",
       "      <td>2.000000</td>\n",
       "      <td>25.400000</td>\n",
       "      <td>520.988513</td>\n",
       "      <td>0.995141</td>\n",
       "      <td>241.000000</td>\n",
       "      <td>0.508232</td>\n",
       "      <td>136.000000</td>\n",
       "      <td>0.289107</td>\n",
       "      <td>576.000000</td>\n",
       "      <td>548.000000</td>\n",
       "    </tr>\n",
       "    <tr>\n",
       "      <th>max</th>\n",
       "      <td>1769.000000</td>\n",
       "      <td>5066.000000</td>\n",
       "      <td>1061.000000</td>\n",
       "      <td>67.000000</td>\n",
       "      <td>37.000000</td>\n",
       "      <td>5.000000</td>\n",
       "      <td>5.541401</td>\n",
       "      <td>83.000000</td>\n",
       "      <td>10.000000</td>\n",
       "      <td>216.500000</td>\n",
       "      <td>1052.320719</td>\n",
       "      <td>1.000000</td>\n",
       "      <td>582.000000</td>\n",
       "      <td>0.619247</td>\n",
       "      <td>336.000000</td>\n",
       "      <td>0.370293</td>\n",
       "      <td>750.000000</td>\n",
       "      <td>750.000000</td>\n",
       "    </tr>\n",
       "  </tbody>\n",
       "</table>\n",
       "</div>"
      ],
      "text/plain": [
       "           essayid        chars        words      commas  apostrophes  \\\n",
       "count   199.000000   199.000000   199.000000  199.000000   199.000000   \n",
       "mean    866.246231  2151.723618   432.904523   15.055276     8.437186   \n",
       "std     495.767821   892.834324   178.346405   11.313350     6.431836   \n",
       "min      18.000000   236.000000    50.000000    0.000000     2.000000   \n",
       "25%     477.000000  1534.000000   311.500000    8.000000     3.500000   \n",
       "50%     862.000000  2079.000000   417.000000   12.000000     6.000000   \n",
       "75%    1255.000000  2637.000000   524.500000   20.000000    13.000000   \n",
       "max    1769.000000  5066.000000  1061.000000   67.000000    37.000000   \n",
       "\n",
       "       punctuations  avg_word_length   sentences   questions  \\\n",
       "count    199.000000       199.000000  199.000000  199.000000   \n",
       "mean       0.422111         4.961988   20.201005    1.311558   \n",
       "std        0.900456         0.208963    9.997464    1.840459   \n",
       "min        0.000000         4.342593    2.000000    0.000000   \n",
       "25%        0.000000         4.830455   13.500000    0.000000   \n",
       "50%        0.000000         4.971609   19.000000    1.000000   \n",
       "75%        0.000000         5.081581   24.000000    2.000000   \n",
       "max        5.000000         5.541401   83.000000   10.000000   \n",
       "\n",
       "       avg_word_sentence          POS  POS/total_words  prompt_words  \\\n",
       "count         199.000000   199.000000       199.000000    199.000000   \n",
       "mean           23.427486   429.080957         0.990736    203.597990   \n",
       "std            14.853168   177.156625         0.006472     83.751431   \n",
       "min            11.349398    50.000000         0.959283     22.000000   \n",
       "25%            18.791126   308.161248         0.988327    145.500000   \n",
       "50%            21.428571   412.985507         0.992126    198.000000   \n",
       "75%            25.400000   520.988513         0.995141    241.000000   \n",
       "max           216.500000  1052.320719         1.000000    582.000000   \n",
       "\n",
       "       prompt_words/total_words  synonym_words  synonym_words/total_words  \\\n",
       "count                199.000000     199.000000                 199.000000   \n",
       "mean                   0.473099     112.236181                   0.262899   \n",
       "std                    0.050144      46.160781                   0.039271   \n",
       "min                    0.305556      11.000000                   0.175911   \n",
       "25%                    0.442804      82.500000                   0.232916   \n",
       "50%                    0.468121     109.000000                   0.266010   \n",
       "75%                    0.508232     136.000000                   0.289107   \n",
       "max                    0.619247     336.000000                   0.370293   \n",
       "\n",
       "        unstemmed     stemmed  \n",
       "count  199.000000  199.000000  \n",
       "mean   469.603015  455.899497  \n",
       "std    157.915967  154.569425  \n",
       "min     72.000000   74.000000  \n",
       "25%    366.000000  357.000000  \n",
       "50%    461.000000  448.000000  \n",
       "75%    576.000000  548.000000  \n",
       "max    750.000000  750.000000  "
      ]
     },
     "execution_count": 29,
     "metadata": {},
     "output_type": "execute_result"
    }
   ],
   "source": [
    "essay_features_submission.describe()"
   ]
  },
  {
   "cell_type": "markdown",
   "id": "deac3efb",
   "metadata": {},
   "source": [
    "We have 199 essayid in this data frame."
   ]
  },
  {
   "cell_type": "code",
   "execution_count": 30,
   "id": "d1c7be59",
   "metadata": {},
   "outputs": [],
   "source": [
    "essay_features_submission_independent_var = essay_features_submission.iloc[:, [1,10,2,16,17]].values"
   ]
  },
  {
   "cell_type": "code",
   "execution_count": 31,
   "id": "e688eefd",
   "metadata": {},
   "outputs": [],
   "source": [
    "predict_data_set = std_scaler.transform(essay_features_submission_independent_var)"
   ]
  },
  {
   "cell_type": "code",
   "execution_count": 32,
   "id": "d6e1b9e9",
   "metadata": {},
   "outputs": [
    {
     "data": {
      "text/plain": [
       "array([4, 3, 3, 4, 4, 4, 3, 3, 3, 3, 3, 3, 4, 3, 4, 4, 4, 4, 3, 4, 3, 3,\n",
       "       4, 4, 4, 4, 4, 4, 4, 3, 2, 4, 3, 3, 4, 3, 4, 4, 3, 3, 3, 4, 3, 3,\n",
       "       1, 3, 3, 4, 4, 3, 3, 4, 4, 4, 3, 4, 3, 4, 4, 4, 2, 3, 3, 4, 3, 4,\n",
       "       4, 4, 3, 4, 4, 4, 4, 3, 3, 3, 3, 3, 4, 4, 4, 4, 4, 3, 4, 2, 4, 4,\n",
       "       2, 3, 4, 3, 3, 3, 4, 4, 4, 4, 4, 3, 3, 4, 2, 4, 3, 4, 3, 3, 4, 4,\n",
       "       5, 3, 4, 4, 4, 3, 3, 4, 2, 3, 4, 4, 4, 3, 2, 4, 3, 4, 4, 2, 4, 4,\n",
       "       2, 3, 4, 4, 3, 4, 1, 4, 4, 4, 4, 3, 3, 4, 4, 3, 4, 4, 4, 3, 3, 3,\n",
       "       4, 3, 3, 3, 4, 4, 4, 3, 2, 3, 4, 4, 3, 3, 1, 4, 3, 4, 3, 3, 4, 4,\n",
       "       4, 3, 3, 5, 4, 3, 4, 4, 4, 4, 3, 3, 3, 3, 3, 4, 4, 4, 3, 4, 4, 3,\n",
       "       3])"
      ]
     },
     "execution_count": 32,
     "metadata": {},
     "output_type": "execute_result"
    }
   ],
   "source": [
    "predicted_output = classifier.predict(predict_data_set)\n",
    "predicted_output"
   ]
  },
  {
   "cell_type": "code",
   "execution_count": 33,
   "id": "0d8b164d",
   "metadata": {},
   "outputs": [
    {
     "data": {
      "text/html": [
       "<div>\n",
       "<style scoped>\n",
       "    .dataframe tbody tr th:only-of-type {\n",
       "        vertical-align: middle;\n",
       "    }\n",
       "\n",
       "    .dataframe tbody tr th {\n",
       "        vertical-align: top;\n",
       "    }\n",
       "\n",
       "    .dataframe thead th {\n",
       "        text-align: right;\n",
       "    }\n",
       "</style>\n",
       "<table border=\"1\" class=\"dataframe\">\n",
       "  <thead>\n",
       "    <tr style=\"text-align: right;\">\n",
       "      <th></th>\n",
       "      <th>0</th>\n",
       "    </tr>\n",
       "  </thead>\n",
       "  <tbody>\n",
       "    <tr>\n",
       "      <th>0</th>\n",
       "      <td>4</td>\n",
       "    </tr>\n",
       "    <tr>\n",
       "      <th>1</th>\n",
       "      <td>3</td>\n",
       "    </tr>\n",
       "    <tr>\n",
       "      <th>2</th>\n",
       "      <td>3</td>\n",
       "    </tr>\n",
       "    <tr>\n",
       "      <th>3</th>\n",
       "      <td>4</td>\n",
       "    </tr>\n",
       "    <tr>\n",
       "      <th>4</th>\n",
       "      <td>4</td>\n",
       "    </tr>\n",
       "    <tr>\n",
       "      <th>...</th>\n",
       "      <td>...</td>\n",
       "    </tr>\n",
       "    <tr>\n",
       "      <th>194</th>\n",
       "      <td>3</td>\n",
       "    </tr>\n",
       "    <tr>\n",
       "      <th>195</th>\n",
       "      <td>4</td>\n",
       "    </tr>\n",
       "    <tr>\n",
       "      <th>196</th>\n",
       "      <td>4</td>\n",
       "    </tr>\n",
       "    <tr>\n",
       "      <th>197</th>\n",
       "      <td>3</td>\n",
       "    </tr>\n",
       "    <tr>\n",
       "      <th>198</th>\n",
       "      <td>3</td>\n",
       "    </tr>\n",
       "  </tbody>\n",
       "</table>\n",
       "<p>199 rows × 1 columns</p>\n",
       "</div>"
      ],
      "text/plain": [
       "     0\n",
       "0    4\n",
       "1    3\n",
       "2    3\n",
       "3    4\n",
       "4    4\n",
       "..  ..\n",
       "194  3\n",
       "195  4\n",
       "196  4\n",
       "197  3\n",
       "198  3\n",
       "\n",
       "[199 rows x 1 columns]"
      ]
     },
     "execution_count": 33,
     "metadata": {},
     "output_type": "execute_result"
    }
   ],
   "source": [
    "predicted_output = pd.DataFrame(predicted_output)\n",
    "predicted_output"
   ]
  },
  {
   "cell_type": "code",
   "execution_count": 34,
   "id": "d5f24536",
   "metadata": {},
   "outputs": [
    {
     "data": {
      "text/plain": [
       "Index(['essayid', 'score'], dtype='object')"
      ]
     },
     "execution_count": 34,
     "metadata": {},
     "output_type": "execute_result"
    }
   ],
   "source": [
    "file_to_submit = pd.read_csv(\"Project 2 Files/YourID-YourName-1.csv\")\n",
    "file_to_submit.columns"
   ]
  },
  {
   "cell_type": "code",
   "execution_count": 35,
   "id": "89f7a683",
   "metadata": {},
   "outputs": [],
   "source": [
    "predicted_output.insert(0,'essayid',file_to_submit[\"essayid\"])"
   ]
  },
  {
   "cell_type": "code",
   "execution_count": 36,
   "id": "c181a8bc",
   "metadata": {},
   "outputs": [],
   "source": [
    "predicted_output.rename(columns={0 : 'score'},inplace = True)"
   ]
  },
  {
   "cell_type": "code",
   "execution_count": 37,
   "id": "a8f64f05",
   "metadata": {},
   "outputs": [
    {
     "data": {
      "text/html": [
       "<div>\n",
       "<style scoped>\n",
       "    .dataframe tbody tr th:only-of-type {\n",
       "        vertical-align: middle;\n",
       "    }\n",
       "\n",
       "    .dataframe tbody tr th {\n",
       "        vertical-align: top;\n",
       "    }\n",
       "\n",
       "    .dataframe thead th {\n",
       "        text-align: right;\n",
       "    }\n",
       "</style>\n",
       "<table border=\"1\" class=\"dataframe\">\n",
       "  <thead>\n",
       "    <tr style=\"text-align: right;\">\n",
       "      <th></th>\n",
       "      <th>essayid</th>\n",
       "      <th>score</th>\n",
       "    </tr>\n",
       "  </thead>\n",
       "  <tbody>\n",
       "    <tr>\n",
       "      <th>182</th>\n",
       "      <td>507</td>\n",
       "      <td>4</td>\n",
       "    </tr>\n",
       "    <tr>\n",
       "      <th>22</th>\n",
       "      <td>977</td>\n",
       "      <td>4</td>\n",
       "    </tr>\n",
       "    <tr>\n",
       "      <th>123</th>\n",
       "      <td>506</td>\n",
       "      <td>3</td>\n",
       "    </tr>\n",
       "    <tr>\n",
       "      <th>143</th>\n",
       "      <td>1007</td>\n",
       "      <td>3</td>\n",
       "    </tr>\n",
       "    <tr>\n",
       "      <th>137</th>\n",
       "      <td>156</td>\n",
       "      <td>4</td>\n",
       "    </tr>\n",
       "  </tbody>\n",
       "</table>\n",
       "</div>"
      ],
      "text/plain": [
       "     essayid  score\n",
       "182      507      4\n",
       "22       977      4\n",
       "123      506      3\n",
       "143     1007      3\n",
       "137      156      4"
      ]
     },
     "execution_count": 37,
     "metadata": {},
     "output_type": "execute_result"
    }
   ],
   "source": [
    "predicted_output.sample(5)"
   ]
  },
  {
   "cell_type": "code",
   "execution_count": 38,
   "id": "87a3143c",
   "metadata": {},
   "outputs": [
    {
     "data": {
      "text/plain": [
       "(199, 2)"
      ]
     },
     "execution_count": 38,
     "metadata": {},
     "output_type": "execute_result"
    }
   ],
   "source": [
    "predicted_output.shape"
   ]
  },
  {
   "cell_type": "markdown",
   "id": "4f008534",
   "metadata": {},
   "source": [
    "## 4c) Output your prediction to a CSV file"
   ]
  },
  {
   "cell_type": "code",
   "execution_count": 39,
   "id": "ed453dd9",
   "metadata": {},
   "outputs": [],
   "source": [
    "predicted_output.to_csv(\"32938586-Tee Zhi Hui-v21.csv\",index=False) "
   ]
  },
  {
   "cell_type": "markdown",
   "id": "18d8c719",
   "metadata": {},
   "source": [
    "# Conclusion"
   ]
  },
  {
   "cell_type": "markdown",
   "id": "46e24591",
   "metadata": {},
   "source": [
    "In conclusion, the main objective of this report is to build a model which can predict the score of the essay based on certain features."
   ]
  },
  {
   "cell_type": "markdown",
   "id": "cf2a3433",
   "metadata": {},
   "source": [
    "# References"
   ]
  },
  {
   "cell_type": "markdown",
   "id": "a9215af4",
   "metadata": {},
   "source": [
    "1.Raheel Shaikh. (2018, October 28). Feature Selection Techniques in Machine Learning with Python. Medium; Towards Data Science. https://towardsdatascience.com/feature-selection-techniques-in-machine-learning-with-python-f24e7da3f36e \n",
    "\n",
    "\n",
    "2.Chong, J. (2020, December 30). What is Feature Scaling & Why is it Important in Machine Learning? Towards Data Science. https://towardsdatascience.com/what-is-feature-scaling-why-is-it-important-in-machine-learning-2854ae877048\n",
    "\n",
    "\n",
    "3.Support Vector Machine Algorithm. (2021, January 20). GeeksforGeeks. https://www.geeksforgeeks.org/support-vector-machine-algorithm/\n",
    "\n",
    "\n",
    "4.Sethi, A. (2020, March 27). Support Vector Regression In Machine Learning. Analytics Vidhya. https://www.analyticsvidhya.com/blog/2020/03/support-vector-regression-tutorial-for-machine-learning/\n",
    "\n",
    "\n",
    "5.SVM Kernel Functions - 'Coz your SVM knowledge is incomplete without it. (2020, March 13). TechVidvan. https://techvidvan.com/tutorials/svm-kernel-functions/\n",
    "\n",
    "\n",
    "6.SVM Hyperparameter Tuning using GridSearchCV. (2020, March 10). Velocity Business Solutions Limited. https://www.vebuso.com/2020/03/svm-hyperparameter-tuning-using-gridsearchcv/\n",
    "\n",
    "\n",
    "7.prashant111. (2020, April 24). Simple Explanation of Quadratic Weighted Kappa | Kaggle. Kaggle: Your Machine\n",
    "Learning and Data Science Community; Kaggle.https://www.kaggle.com/code/prashant111/simple-explanation-of-\n",
    "quadratic-weighted-kappa/notebook"
   ]
  }
 ],
 "metadata": {
  "kernelspec": {
   "display_name": "Python 3 (ipykernel)",
   "language": "python",
   "name": "python3"
  },
  "language_info": {
   "codemirror_mode": {
    "name": "ipython",
    "version": 3
   },
   "file_extension": ".py",
   "mimetype": "text/x-python",
   "name": "python",
   "nbconvert_exporter": "python",
   "pygments_lexer": "ipython3",
   "version": "3.9.7"
  }
 },
 "nbformat": 4,
 "nbformat_minor": 5
}
